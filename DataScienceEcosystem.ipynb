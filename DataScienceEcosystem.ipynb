{
 "cells": [
  {
   "cell_type": "markdown",
   "id": "9ba857d7-3486-45ff-bcef-a2cd324d5636",
   "metadata": {},
   "source": [
    "# Data Science Tools and Ecosystem"
   ]
  },
  {
   "cell_type": "markdown",
   "id": "2819acf7-7525-4659-87f3-f5ef5c163b1f",
   "metadata": {},
   "source": [
    "In this notebook, Data Science Tools and Ecosystems are summarized."
   ]
  },
  {
   "cell_type": "markdown",
   "id": "83176d25-f125-489b-b0e7-cc21fd7b6246",
   "metadata": {},
   "source": [
    "**Objectives**\n",
    "* List popular languages for data science\n",
    "* List commonly used libraries used by Data Scientists\n",
    "* Create a table listing open source data science tools"
   ]
  },
  {
   "cell_type": "markdown",
   "id": "4096198d-c86f-41ea-9feb-b578b7c07cf3",
   "metadata": {},
   "source": [
    "Some of the popular languages that Data Scientists use are:\n",
    "1. Python\n",
    "2. R\n",
    "3. SQL"
   ]
  },
  {
   "cell_type": "markdown",
   "id": "b6ab44a6-a6e6-46ed-b140-1c2ae4df6b82",
   "metadata": {},
   "source": [
    "Some of the commonly used libraries used by Data Scientists include\n",
    "1. Pandas\n",
    "2. NumPy\n",
    "3. MatPlotLib"
   ]
  },
  {
   "cell_type": "markdown",
   "id": "195713a0-d2a5-45f6-92dd-6651f2843bc6",
   "metadata": {},
   "source": [
    "| Data Science Tools |\n",
    "| ------------------- |\n",
    "| Jupyter Labs |\n",
    "| R Studio |\n",
    "| Apache Spark |"
   ]
  },
  {
   "cell_type": "markdown",
   "id": "630d50ac-7241-4de7-8689-5394667224b2",
   "metadata": {},
   "source": [
    "### Below are a few examples of evaluating arithmetic expressions in python"
   ]
  },
  {
   "cell_type": "code",
   "execution_count": 1,
   "id": "806b5a52-0b40-4268-96f7-64da2484efd6",
   "metadata": {},
   "outputs": [
    {
     "data": {
      "text/plain": [
       "17"
      ]
     },
     "execution_count": 1,
     "metadata": {},
     "output_type": "execute_result"
    }
   ],
   "source": [
    "(3*4)+5"
   ]
  },
  {
   "cell_type": "code",
   "execution_count": 2,
   "id": "70dd1761-f41a-43f2-8778-7628c3fd7758",
   "metadata": {},
   "outputs": [],
   "source": [
    "#this will convert 200 minutes to hours by dividing by 60"
   ]
  },
  {
   "cell_type": "code",
   "execution_count": 4,
   "id": "dc1a6e99-a1f3-4993-9b23-b3eb170fd0b8",
   "metadata": {},
   "outputs": [
    {
     "data": {
      "text/plain": [
       "3.3333333333333335"
      ]
     },
     "execution_count": 4,
     "metadata": {},
     "output_type": "execute_result"
    }
   ],
   "source": [
    "200/60"
   ]
  },
  {
   "cell_type": "markdown",
   "id": "9b8b644a-9336-4c7b-9db0-6bdd717fab32",
   "metadata": {},
   "source": [
    "## Author\n",
    "Peter Robinson"
   ]
  },
  {
   "cell_type": "code",
   "execution_count": null,
   "id": "37058098-e0c2-4236-9777-101a05d67260",
   "metadata": {},
   "outputs": [],
   "source": []
  }
 ],
 "metadata": {
  "kernelspec": {
   "display_name": "Python 3 (ipykernel)",
   "language": "python",
   "name": "python3"
  },
  "language_info": {
   "codemirror_mode": {
    "name": "ipython",
    "version": 3
   },
   "file_extension": ".py",
   "mimetype": "text/x-python",
   "name": "python",
   "nbconvert_exporter": "python",
   "pygments_lexer": "ipython3",
   "version": "3.10.9"
  }
 },
 "nbformat": 4,
 "nbformat_minor": 5
}
